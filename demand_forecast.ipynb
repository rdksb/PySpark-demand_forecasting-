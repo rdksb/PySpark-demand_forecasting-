{
 "cells": [
  {
   "cell_type": "markdown",
   "metadata": {
    "id": "sSqZFoEC-Qds"
   },
   "source": [
    "# **Demand Forecasting system**\n"
   ]
  },
  {
   "cell_type": "code",
   "execution_count": 4,
   "metadata": {
    "executionInfo": {
     "elapsed": 2869,
     "status": "ok",
     "timestamp": 1733235281044,
     "user": {
      "displayName": "ran",
      "userId": "03764979633057464777"
     },
     "user_tz": -60
    },
    "id": "pLdfHPVm3QHa"
   },
   "outputs": [],
   "source": [
    "from pyspark.sql import SparkSession\n",
    "import pyspark.sql.functions as sf\n",
    "from pyspark.sql.functions import col\n",
    "from pyspark.ml import Pipeline\n",
    "from pyspark.ml.feature import VectorAssembler\n",
    "from pyspark.ml.feature import StringIndexer\n",
    "from pyspark.ml.feature import VectorIndexer\n",
    "from pyspark.ml.regression import DecisionTreeRegressor\n",
    "from pyspark.ml.regression import RandomForestRegressor\n",
    "from pyspark.ml.regression import GBTRegressor\n",
    "from pyspark.ml.tuning import ParamGridBuilder\n",
    "from pyspark.ml.tuning import CrossValidator\n",
    "from pyspark.ml.evaluation import RegressionEvaluator\n",
    "\n",
    "import seaborn as sns\n",
    "import matplotlib.pyplot as plt"
   ]
  },
  {
   "cell_type": "code",
   "execution_count": 5,
   "metadata": {
    "executionInfo": {
     "elapsed": 7381,
     "status": "ok",
     "timestamp": 1733235288421,
     "user": {
      "displayName": "ran",
      "userId": "03764979633057464777"
     },
     "user_tz": -60
    },
    "id": "-OfsSZbF3VXe"
   },
   "outputs": [],
   "source": [
    "# Initialize Spark session\n",
    "spark = SparkSession.builder.appName(\"Demand_Forecasting_in_Retail\").getOrCreate()"
   ]
  },
  {
   "cell_type": "markdown",
   "metadata": {
    "id": "Ab-F5E4vYVY2"
   },
   "source": [
    "## **Part 1: Loading and cleaning data**"
   ]
  },
  {
   "cell_type": "code",
   "execution_count": 6,
   "metadata": {
    "colab": {
     "base_uri": "https://localhost:8080/"
    },
    "executionInfo": {
     "elapsed": 16521,
     "status": "ok",
     "timestamp": 1733235306163,
     "user": {
      "displayName": "ran",
      "userId": "03764979633057464777"
     },
     "user_tz": -60
    },
    "id": "tl4WhbsO4Nc9",
    "outputId": "83d27d77-7fcb-4b5e-c989-603c371f440a"
   },
   "outputs": [
    {
     "name": "stdout",
     "output_type": "stream",
     "text": [
      "root\n",
      " |-- InvoiceNo: string (nullable = true)\n",
      " |-- StockCode: string (nullable = true)\n",
      " |-- Description: string (nullable = true)\n",
      " |-- Quantity: integer (nullable = true)\n",
      " |-- InvoiceDate: string (nullable = true)\n",
      " |-- UnitPrice: double (nullable = true)\n",
      " |-- CustomerID: integer (nullable = true)\n",
      " |-- Country: string (nullable = true)\n",
      "\n"
     ]
    }
   ],
   "source": [
    "# Importing sales data\n",
    "df_sales = spark.read.csv(\"Online Retail.csv\",\n",
    "                          header=True, inferSchema=True, sep=\",\")\n",
    "df_sales.printSchema()"
   ]
  },
  {
   "cell_type": "code",
   "execution_count": 7,
   "metadata": {
    "colab": {
     "base_uri": "https://localhost:8080/"
    },
    "executionInfo": {
     "elapsed": 3055,
     "status": "ok",
     "timestamp": 1733235309212,
     "user": {
      "displayName": "ran",
      "userId": "03764979633057464777"
     },
     "user_tz": -60
    },
    "id": "7ggsr8Vr6sDM",
    "outputId": "d3c85a9f-71a0-4c26-b850-682014ba4d95"
   },
   "outputs": [
    {
     "data": {
      "text/plain": [
       "541909"
      ]
     },
     "execution_count": 7,
     "metadata": {},
     "output_type": "execute_result"
    }
   ],
   "source": [
    "df_sales.count()"
   ]
  },
  {
   "cell_type": "markdown",
   "metadata": {
    "id": "DvFrDdNoIjGk"
   },
   "source": [
    "Check and remove cancelled transactions"
   ]
  },
  {
   "cell_type": "code",
   "execution_count": 10,
   "metadata": {
    "colab": {
     "base_uri": "https://localhost:8080/"
    },
    "executionInfo": {
     "elapsed": 6957,
     "status": "ok",
     "timestamp": 1733232762600,
     "user": {
      "displayName": "ran",
      "userId": "03764979633057464777"
     },
     "user_tz": -60
    },
    "id": "bM3_c3B_5oFb",
    "outputId": "d874af4a-c876-43ea-b360-be42f065a514"
   },
   "outputs": [
    {
     "data": {
      "text/plain": [
       "25900"
      ]
     },
     "execution_count": 10,
     "metadata": {},
     "output_type": "execute_result"
    }
   ],
   "source": [
    "# Check the number of transactions\n",
    "df_sales.select('InvoiceNo').distinct().count()"
   ]
  },
  {
   "cell_type": "code",
   "execution_count": 11,
   "metadata": {
    "colab": {
     "base_uri": "https://localhost:8080/"
    },
    "executionInfo": {
     "elapsed": 5085,
     "status": "ok",
     "timestamp": 1733232767681,
     "user": {
      "displayName": "ran",
      "userId": "03764979633057464777"
     },
     "user_tz": -60
    },
    "id": "SwVwS-Iq9LlU",
    "outputId": "024a181f-e1e2-4c9e-a1d7-73ab0738eca7"
   },
   "outputs": [
    {
     "data": {
      "text/plain": [
       "3836"
      ]
     },
     "execution_count": 11,
     "metadata": {},
     "output_type": "execute_result"
    }
   ],
   "source": [
    "# Check the number of cancelled transactions\n",
    "canceled = df_sales.filter(df_sales['InvoiceNo'].startswith('C') == True)\n",
    "canceled.select('InvoiceNo').distinct().count()"
   ]
  },
  {
   "cell_type": "code",
   "execution_count": 12,
   "metadata": {
    "colab": {
     "base_uri": "https://localhost:8080/"
    },
    "executionInfo": {
     "elapsed": 1416,
     "status": "ok",
     "timestamp": 1733232769092,
     "user": {
      "displayName": "ran",
      "userId": "03764979633057464777"
     },
     "user_tz": -60
    },
    "id": "7KUvqOSs9cay",
    "outputId": "7072ff53-7f07-472d-b53e-c0ca8bda3a1e"
   },
   "outputs": [
    {
     "data": {
      "text/plain": [
       "532621"
      ]
     },
     "execution_count": 12,
     "metadata": {},
     "output_type": "execute_result"
    }
   ],
   "source": [
    "# Remove cancelled transactions\n",
    "df_sales = df_sales.filter(df_sales['InvoiceNo'].startswith('C') == False)"
   ]
  },
  {
   "cell_type": "markdown",
   "metadata": {
    "id": "fV36KUpjIom5"
   },
   "source": [
    "Check and drop any records with null values"
   ]
  },
  {
   "cell_type": "code",
   "execution_count": 13,
   "metadata": {
    "colab": {
     "base_uri": "https://localhost:8080/"
    },
    "executionInfo": {
     "elapsed": 3600,
     "status": "ok",
     "timestamp": 1733232774429,
     "user": {
      "displayName": "ran",
      "userId": "03764979633057464777"
     },
     "user_tz": -60
    },
    "id": "aRePSkBaFbhg",
    "outputId": "a9d97309-7dd2-43ff-c044-6dd4f9a9a9a0"
   },
   "outputs": [
    {
     "name": "stdout",
     "output_type": "stream",
     "text": [
      "+---------+---------+-----------+--------+-----------+---------+----------+-------+\n",
      "|InvoiceNo|StockCode|Description|Quantity|InvoiceDate|UnitPrice|CustomerID|Country|\n",
      "+---------+---------+-----------+--------+-----------+---------+----------+-------+\n",
      "|        0|        0|       1454|       0|          0|        0|    134697|      0|\n",
      "+---------+---------+-----------+--------+-----------+---------+----------+-------+\n",
      "\n"
     ]
    }
   ],
   "source": [
    "# Check missing values\n",
    "df_sales.select([sf.count(sf.when(col(c).isNull(), c)).alias(c) \\\n",
    "                 for c in df_sales.columns]).show()"
   ]
  },
  {
   "cell_type": "code",
   "execution_count": 14,
   "metadata": {
    "executionInfo": {
     "elapsed": 4,
     "status": "ok",
     "timestamp": 1733232775680,
     "user": {
      "displayName": "ran",
      "userId": "03764979633057464777"
     },
     "user_tz": -60
    },
    "id": "DkmXE0Gk-PXF"
   },
   "outputs": [],
   "source": [
    "# Remove transactions with missing values\n",
    "df_sales = df_sales.na.drop()"
   ]
  },
  {
   "cell_type": "markdown",
   "metadata": {
    "id": "NsyCHeVgI4_r"
   },
   "source": [
    "Exploring features and check for errors, outliers or irrelevant values\n"
   ]
  },
  {
   "cell_type": "code",
   "execution_count": 16,
   "metadata": {
    "colab": {
     "base_uri": "https://localhost:8080/"
    },
    "executionInfo": {
     "elapsed": 8254,
     "status": "ok",
     "timestamp": 1733232792234,
     "user": {
      "displayName": "ran",
      "userId": "03764979633057464777"
     },
     "user_tz": -60
    },
    "id": "k1eBf0p4OZR9",
    "outputId": "7b5215d4-d77a-4286-8df3-57a8973a6698"
   },
   "outputs": [
    {
     "name": "stdout",
     "output_type": "stream",
     "text": [
      "+----------+----------------+------------------------+\n",
      "|CustomerID|CountDistCountry|Countries               |\n",
      "+----------+----------------+------------------------+\n",
      "|12370     |2               |[Austria, Cyprus]       |\n",
      "|12394     |2               |[Denmark, Belgium]      |\n",
      "|12417     |2               |[Spain, Belgium]        |\n",
      "|12422     |2               |[Australia, Switzerland]|\n",
      "|12429     |2               |[Austria, Denmark]      |\n",
      "|12431     |2               |[Australia, Belgium]    |\n",
      "|12455     |2               |[Spain, Cyprus]         |\n",
      "|12457     |2               |[Switzerland, Cyprus]   |\n",
      "+----------+----------------+------------------------+\n",
      "\n"
     ]
    }
   ],
   "source": [
    "# 'Country' represents the name of the country where each customer resides.\n",
    "# Check if any customer is assigned with more than one country\n",
    "df_sales.groupBy('CustomerID').agg(sf.countDistinct('Country').alias('CountDistCountry'),\n",
    "                                  sf.collect_set(col('Country')).alias('Countries'))\\\n",
    "                                .filter(col('CountDistCountry')>1).show(truncate=False)"
   ]
  },
  {
   "cell_type": "code",
   "execution_count": 17,
   "metadata": {
    "executionInfo": {
     "elapsed": 479,
     "status": "ok",
     "timestamp": 1733232793577,
     "user": {
      "displayName": "ran",
      "userId": "03764979633057464777"
     },
     "user_tz": -60
    },
    "id": "weU_Jz7Tjhtj"
   },
   "outputs": [],
   "source": [
    "# Find the mode value of each customer's country and use it to replace the incorrect values\n",
    "df_mode = df_sales.groupBy('CustomerID').agg(sf.mode('Country').alias('ModeCountry'))\n",
    "df_sales = df_sales.join(df_mode, on='CustomerID').drop('Country')\n",
    "df_sales = df_sales.withColumnRenamed('ModeCountry', 'Country')"
   ]
  },
  {
   "cell_type": "code",
   "execution_count": 18,
   "metadata": {
    "colab": {
     "base_uri": "https://localhost:8080/"
    },
    "executionInfo": {
     "elapsed": 33555,
     "status": "ok",
     "timestamp": 1733232827515,
     "user": {
      "displayName": "ran",
      "userId": "03764979633057464777"
     },
     "user_tz": -60
    },
    "id": "AoeeJ56cczdT",
    "outputId": "9ea4c8ac-ab28-4e1d-ca95-087ae7093b54"
   },
   "outputs": [
    {
     "name": "stdout",
     "output_type": "stream",
     "text": [
      "+-------+------------------+------------------+------------------+--------------------+------------------+----------------+------------------+-----------+\n",
      "|summary|        CustomerID|         InvoiceNo|         StockCode|         Description|          Quantity|     InvoiceDate|         UnitPrice|    Country|\n",
      "+-------+------------------+------------------+------------------+--------------------+------------------+----------------+------------------+-----------+\n",
      "|  count|            397924|            397924|            397924|              397924|            397924|          397924|            397924|     397924|\n",
      "|   mean|15294.315170736121| 560617.1266447864| 27420.22580442879|                NULL|13.021823262733587|            NULL| 3.116174480554462|       NULL|\n",
      "| stddev| 1713.169877338218|13106.167694745733|16390.678394746443|                NULL|180.42020991698132|            NULL|22.096788031685804|       NULL|\n",
      "|    min|             12346|            536365|             10002| 4 PURPLE FLOCK D...|                 1|01-02-2011 08:23|               0.0|  Australia|\n",
      "|    25%|             13969|          549234.0|           21975.0|                NULL|                 2|            NULL|              1.25|       NULL|\n",
      "|    50%|             15159|          561891.0|           22615.0|                NULL|                 6|            NULL|              1.95|       NULL|\n",
      "|    75%|             16795|          572088.0|           23187.0|                NULL|                12|            NULL|              3.75|       NULL|\n",
      "|    max|             18287|            581587|              POST|ZINC WIRE SWEETHE...|             80995|31-10-2011 17:13|           8142.75|Unspecified|\n",
      "+-------+------------------+------------------+------------------+--------------------+------------------+----------------+------------------+-----------+\n",
      "\n"
     ]
    }
   ],
   "source": [
    "# Check for irrelevant values\n",
    "df_sales.summary().show()"
   ]
  },
  {
   "cell_type": "markdown",
   "metadata": {
    "id": "zWBzJBDgRAQ1"
   },
   "source": [
    "It is obvious from the summary that most quantity values are small positive numbers but there are also some extreme outliers. The same applies to unitprice values. So let's first look at their distribution.\n",
    "\n"
   ]
  },
  {
   "cell_type": "code",
   "execution_count": 19,
   "metadata": {
    "colab": {
     "base_uri": "https://localhost:8080/",
     "height": 567
    },
    "executionInfo": {
     "elapsed": 73810,
     "status": "ok",
     "timestamp": 1733232901320,
     "user": {
      "displayName": "ran",
      "userId": "03764979633057464777"
     },
     "user_tz": -60
    },
    "id": "TDnDUab_B_Qe",
    "outputId": "1068d25a-5eb2-4f14-b9a3-2bac400edcb7"
   },
   "outputs": [
    {
     "data": {
      "text/plain": [
       "<Figure size 500x500 with 0 Axes>"
      ]
     },
     "metadata": {},
     "output_type": "display_data"
    },
    {
     "data": {
      "image/png": "[encoded data removed]",
      "text/plain": [
       "<Figure size 612.125x500 with 1 Axes>"
      ]
     },
     "metadata": {},
     "output_type": "display_data"
    }
   ],
   "source": [
    "# Look at the distribution of 'Quantity' and 'UnitPrice' values\n",
    "sample = df_sales.select('Quantity', 'UnitPrice').sample(False, 0.1).toPandas()\n",
    "plt.figure(figsize=(5, 5))\n",
    "sns.displot(sample, kde=True)\n",
    "plt.title(\"Distribution\")\n",
    "plt.ylim([0, 1000])\n",
    "plt.show()"
   ]
  },
  {
   "cell_type": "code",
   "execution_count": 20,
   "metadata": {
    "colab": {
     "base_uri": "https://localhost:8080/",
     "height": 567
    },
    "executionInfo": {
     "elapsed": 71140,
     "status": "ok",
     "timestamp": 1733232972436,
     "user": {
      "displayName": "ran",
      "userId": "03764979633057464777"
     },
     "user_tz": -60
    },
    "id": "WYHDmV8rz6Ca",
    "outputId": "2b7ab8b1-2ad3-4665-e607-b96a8c70164f"
   },
   "outputs": [
    {
     "data": {
      "text/plain": [
       "<Figure size 500x500 with 0 Axes>"
      ]
     },
     "metadata": {},
     "output_type": "display_data"
    },
    {
     "data": {
      "image/png": "[encoded data removed]",
      "text/plain": [
       "<Figure size 612.125x500 with 1 Axes>"
      ]
     },
     "metadata": {},
     "output_type": "display_data"
    }
   ],
   "source": [
    "# Zoom\n",
    "plt.figure(figsize=(5, 5))\n",
    "sns.displot(sample, kde=True)\n",
    "plt.title(\"Zoom\")\n",
    "plt.xlim([0, 100])\n",
    "plt.ylim([0, 1000])\n",
    "plt.show()"
   ]
  },
  {
   "cell_type": "code",
   "execution_count": 22,
   "metadata": {
    "colab": {
     "base_uri": "https://localhost:8080/",
     "height": 479
    },
    "executionInfo": {
     "elapsed": 982,
     "status": "ok",
     "timestamp": 1733233482079,
     "user": {
      "displayName": "ran",
      "userId": "03764979633057464777"
     },
     "user_tz": -60
    },
    "id": "JR4PIypSKYcE",
    "outputId": "254521f6-bf10-4daf-b391-21c933da5529"
   },
   "outputs": [
    {
     "data": {
      "text/plain": [
       "<Axes: >"
      ]
     },
     "execution_count": 22,
     "metadata": {},
     "output_type": "execute_result"
    },
    {
     "data": {
      "image/png": "[encoded data removed]",
      "text/plain": [
       "<Figure size 1000x500 with 2 Axes>"
      ]
     },
     "metadata": {},
     "output_type": "display_data"
    }
   ],
   "source": [
    "# Detect outliers using Box plots\n",
    "plt.figure(figsize=(10, 5))\n",
    "ax1 = plt.subplot(121)\n",
    "sample.boxplot(['Quantity'], grid=False)\n",
    "ax2 = plt.subplot(122)\n",
    "sample.boxplot(['UnitPrice'], grid=False)"
   ]
  },
  {
   "cell_type": "code",
   "execution_count": 23,
   "metadata": {
    "executionInfo": {
     "elapsed": 9871,
     "status": "ok",
     "timestamp": 1733233493185,
     "user": {
      "displayName": "ran",
      "userId": "03764979633057464777"
     },
     "user_tz": -60
    },
    "id": "BC0qkicyTGTy"
   },
   "outputs": [],
   "source": [
    "# Filter outliers based on interquartile range (IQR) method\n",
    "for column in ['Quantity', 'UnitPrice']:\n",
    "    quantiles = df_sales.approxQuantile(column, [0.25, 0.75], 0.01)\n",
    "    q1, q3 = quantiles[0], quantiles[1]\n",
    "    iqr = q3 - q1\n",
    "    lower_bound = q1-1.5*iqr\n",
    "    upper_bound = q3+1.5*iqr\n",
    "    df_sales = df_sales.filter((col(column)>=lower_bound) & (col(column)<=upper_bound))"
   ]
  },
  {
   "cell_type": "code",
   "execution_count": 24,
   "metadata": {
    "colab": {
     "base_uri": "https://localhost:8080/",
     "height": 483
    },
    "executionInfo": {
     "elapsed": 9546,
     "status": "ok",
     "timestamp": 1733233502725,
     "user": {
      "displayName": "ran",
      "userId": "03764979633057464777"
     },
     "user_tz": -60
    },
    "id": "An6-rXphhNai",
    "outputId": "b86e42e8-5e27-4d53-e8e0-454502486db5"
   },
   "outputs": [
    {
     "data": {
      "text/plain": [
       "<Axes: >"
      ]
     },
     "execution_count": 24,
     "metadata": {},
     "output_type": "execute_result"
    },
    {
     "data": {
      "image/png": "[encoded data removed]",
      "text/plain": [
       "<Figure size 1000x500 with 2 Axes>"
      ]
     },
     "metadata": {},
     "output_type": "display_data"
    }
   ],
   "source": [
    "# Box plots after removing outliers\n",
    "sample = df_sales.select('Quantity', 'UnitPrice').toPandas()\n",
    "plt.figure(figsize=(10, 5))\n",
    "ax1 = plt.subplot(121)\n",
    "sample.boxplot(['Quantity'], grid=False)\n",
    "ax2 = plt.subplot(122)\n",
    "sample.boxplot(['UnitPrice'], grid=False)"
   ]
  },
  {
   "cell_type": "code",
   "execution_count": 25,
   "metadata": {
    "colab": {
     "base_uri": "https://localhost:8080/"
    },
    "executionInfo": {
     "elapsed": 6603,
     "status": "ok",
     "timestamp": 1733233509313,
     "user": {
      "displayName": "ran",
      "userId": "03764979633057464777"
     },
     "user_tz": -60
    },
    "id": "iw-UadBnhVNe",
    "outputId": "a10348fa-29ba-4cb0-cfff-e185efb61407"
   },
   "outputs": [
    {
     "data": {
      "text/plain": [
       "338182"
      ]
     },
     "execution_count": 25,
     "metadata": {},
     "output_type": "execute_result"
    }
   ],
   "source": [
    "df_sales.count()"
   ]
  },
  {
   "cell_type": "markdown",
   "metadata": {
    "id": "Vc7bamYGgusG"
   },
   "source": [
    "It may be useful to use the experts' insights to clarify whether these outliers indicate a special situation or an error, and to separately investigate how they may affect the results, but this step is skipped for now.\n"
   ]
  },
  {
   "cell_type": "code",
   "execution_count": 26,
   "metadata": {
    "colab": {
     "base_uri": "https://localhost:8080/"
    },
    "executionInfo": {
     "elapsed": 7084,
     "status": "ok",
     "timestamp": 1733233576673,
     "user": {
      "displayName": "ran",
      "userId": "03764979633057464777"
     },
     "user_tz": -60
    },
    "id": "b6OKy0M1dkcX",
    "outputId": "80e61eeb-ff91-49c6-fb00-9d5c9defeadd"
   },
   "outputs": [
    {
     "data": {
      "text/plain": [
       "3395"
      ]
     },
     "execution_count": 26,
     "metadata": {},
     "output_type": "execute_result"
    }
   ],
   "source": [
    "# Check StockCode\n",
    "df_sales.select('StockCode').distinct().count()"
   ]
  },
  {
   "cell_type": "code",
   "execution_count": 27,
   "metadata": {
    "colab": {
     "base_uri": "https://localhost:8080/"
    },
    "executionInfo": {
     "elapsed": 4353,
     "status": "ok",
     "timestamp": 1733233581017,
     "user": {
      "displayName": "ran",
      "userId": "03764979633057464777"
     },
     "user_tz": -60
    },
    "id": "OBSHzJXmljyM",
    "outputId": "57aa3dec-d3a5-4ed8-8468-478a58547e68"
   },
   "outputs": [
    {
     "data": {
      "text/plain": [
       "[Row(StockCode='90214T'),\n",
       " Row(StockCode='90214U'),\n",
       " Row(StockCode='90214V'),\n",
       " Row(StockCode='90214W'),\n",
       " Row(StockCode='90214Y'),\n",
       " Row(StockCode='90214Z'),\n",
       " Row(StockCode='BANK CHARGES'),\n",
       " Row(StockCode='M'),\n",
       " Row(StockCode='PADS'),\n",
       " Row(StockCode='POST')]"
      ]
     },
     "execution_count": 27,
     "metadata": {},
     "output_type": "execute_result"
    }
   ],
   "source": [
    "df_sc = df_sales.select('StockCode').distinct().orderBy('StockCode')\n",
    "df_sc.tail(10)"
   ]
  },
  {
   "cell_type": "code",
   "execution_count": 28,
   "metadata": {
    "executionInfo": {
     "elapsed": 473,
     "status": "ok",
     "timestamp": 1733233582061,
     "user": {
      "displayName": "ran",
      "userId": "03764979633057464777"
     },
     "user_tz": -60
    },
    "id": "klSv7ekqmpUx"
   },
   "outputs": [],
   "source": [
    "# Filter out irrelevant codes\n",
    "irrelevant_codes = [row['StockCode'] for row in df_sc.tail(4)]\n",
    "df_sales = df_sales.filter(~col('StockCode').isin(irrelevant_codes))"
   ]
  },
  {
   "cell_type": "markdown",
   "metadata": {
    "id": "U73Q8WtDjq81"
   },
   "source": [
    "#### Manage data types"
   ]
  },
  {
   "cell_type": "code",
   "execution_count": 30,
   "metadata": {
    "colab": {
     "base_uri": "https://localhost:8080/"
    },
    "executionInfo": {
     "elapsed": 432,
     "status": "ok",
     "timestamp": 1733233595685,
     "user": {
      "displayName": "ran",
      "userId": "03764979633057464777"
     },
     "user_tz": -60
    },
    "id": "SXlF1Bc98MyE",
    "outputId": "4edec694-ea25-41ed-bf46-5f9c4c32e9c8"
   },
   "outputs": [
    {
     "name": "stdout",
     "output_type": "stream",
     "text": [
      "root\n",
      " |-- CustomerID: integer (nullable = true)\n",
      " |-- InvoiceNo: string (nullable = true)\n",
      " |-- StockCode: string (nullable = true)\n",
      " |-- Description: string (nullable = true)\n",
      " |-- Quantity: integer (nullable = true)\n",
      " |-- InvoiceDate: date (nullable = true)\n",
      " |-- UnitPrice: double (nullable = true)\n",
      " |-- Country: string (nullable = true)\n",
      "\n"
     ]
    }
   ],
   "source": [
    "# Convert InvoiceDate to datetime\n",
    "df_sales = \\\n",
    "df_sales.withColumn(\"InvoiceDate\",\\\n",
    "                    sf.to_date(sf.to_timestamp(col(\"InvoiceDate\"), \"dd-MM-yyyy HH:mm\")))\n",
    "df_sales.printSchema()"
   ]
  },
  {
   "cell_type": "code",
   "execution_count": 31,
   "metadata": {
    "colab": {
     "base_uri": "https://localhost:8080/"
    },
    "executionInfo": {
     "elapsed": 5192,
     "status": "ok",
     "timestamp": 1733233609127,
     "user": {
      "displayName": "ran",
      "userId": "03764979633057464777"
     },
     "user_tz": -60
    },
    "id": "98Te-dkhCkfO",
    "outputId": "e56b0a7a-fb70-4dc2-b960-a0b41d066322"
   },
   "outputs": [
    {
     "name": "stdout",
     "output_type": "stream",
     "text": [
      "+----------+---------+---------+--------------------+--------+-----------+---------+--------------+----+-----+----+---+---------+\n",
      "|CustomerID|InvoiceNo|StockCode|         Description|Quantity|InvoiceDate|UnitPrice|       Country|Year|Month|Week|Day|DayofWeek|\n",
      "+----------+---------+---------+--------------------+--------+-----------+---------+--------------+----+-----+----+---+---------+\n",
      "|     17420|   536385|    22961|JAM MAKING SET PR...|      12| 2010-12-01|     1.45|United Kingdom|2010|   12|  48|  1|        4|\n",
      "|     17420|   536385|    22960|JAM MAKING SET WI...|       6| 2010-12-01|     4.25|United Kingdom|2010|   12|  48|  1|        4|\n",
      "|     17420|   536385|    22663|JUMBO BAG DOLLY G...|      10| 2010-12-01|     1.95|United Kingdom|2010|   12|  48|  1|        4|\n",
      "|     17420|   536385|   85049A|TRADITIONAL CHRIS...|      12| 2010-12-01|     1.25|United Kingdom|2010|   12|  48|  1|        4|\n",
      "|     17420|   536385|    22662|LUNCH BAG DOLLY G...|      10| 2010-12-01|     1.65|United Kingdom|2010|   12|  48|  1|        4|\n",
      "+----------+---------+---------+--------------------+--------+-----------+---------+--------------+----+-----+----+---+---------+\n",
      "only showing top 5 rows\n",
      "\n"
     ]
    }
   ],
   "source": [
    "# Adding desired features\n",
    "df_sales = df_sales.withColumn('Year', sf.year('InvoiceDate')).\\\n",
    "                    withColumn('Month', sf.month('InvoiceDate')).\\\n",
    "                    withColumn('Week', sf.weekofyear('InvoiceDate')).\\\n",
    "                    withColumn('Day', sf.dayofmonth('InvoiceDate')).\\\n",
    "                    withColumn('DayofWeek', sf.dayofweek('InvoiceDate'))\n",
    "df_sales.show(5)"
   ]
  },
  {
   "cell_type": "code",
   "execution_count": 33,
   "metadata": {
    "executionInfo": {
     "elapsed": 11881,
     "status": "ok",
     "timestamp": 1733233650465,
     "user": {
      "displayName": "ran",
      "userId": "03764979633057464777"
     },
     "user_tz": -60
    },
    "id": "ta041uesNJVx"
   },
   "outputs": [],
   "source": [
    "# Exporting processed data\n",
    "path = \"data/\"\n",
    "df_sales.write.option(\"header\", True)\\\n",
    "             .option(\"delimiter\", \",\")\\\n",
    "             .mode(\"overwrite\")\\\n",
    "             .csv(path + \"OnlineRetail_Processed.csv\")"
   ]
  },
  {
   "cell_type": "markdown",
   "metadata": {
    "id": "c1nKdGKo-ypi"
   },
   "source": [
    "## **Part 2: Modeling**\n"
   ]
  },
  {
   "cell_type": "code",
   "execution_count": 34,
   "metadata": {
    "colab": {
     "base_uri": "https://localhost:8080/"
    },
    "executionInfo": {
     "elapsed": 3588,
     "status": "ok",
     "timestamp": 1733233662240,
     "user": {
      "displayName": "ran",
      "userId": "03764979633057464777"
     },
     "user_tz": -60
    },
    "id": "Dc3y92iy7wyO",
    "outputId": "5e98fbc1-f7f2-4f4f-f1d1-19d6ccabe791"
   },
   "outputs": [
    {
     "name": "stdout",
     "output_type": "stream",
     "text": [
      "+----------+---------+---------+--------------------+--------+-----------+---------+--------------+----+-----+----+---+---------+\n",
      "|CustomerID|InvoiceNo|StockCode|         Description|Quantity|InvoiceDate|UnitPrice|       Country|Year|Month|Week|Day|DayofWeek|\n",
      "+----------+---------+---------+--------------------+--------+-----------+---------+--------------+----+-----+----+---+---------+\n",
      "|     17420|   536385|    22961|JAM MAKING SET PR...|      12| 2010-12-01|     1.45|United Kingdom|2010|   12|  48|  1|        4|\n",
      "|     17420|   536385|    22960|JAM MAKING SET WI...|       6| 2010-12-01|     4.25|United Kingdom|2010|   12|  48|  1|        4|\n",
      "|     17420|   536385|    22663|JUMBO BAG DOLLY G...|      10| 2010-12-01|     1.95|United Kingdom|2010|   12|  48|  1|        4|\n",
      "|     17420|   536385|   85049A|TRADITIONAL CHRIS...|      12| 2010-12-01|     1.25|United Kingdom|2010|   12|  48|  1|        4|\n",
      "|     17420|   536385|    22662|LUNCH BAG DOLLY G...|      10| 2010-12-01|     1.65|United Kingdom|2010|   12|  48|  1|        4|\n",
      "+----------+---------+---------+--------------------+--------+-----------+---------+--------------+----+-----+----+---+---------+\n",
      "only showing top 5 rows\n",
      "\n"
     ]
    }
   ],
   "source": [
    "# Load data\n",
    "path = \"data/\"\n",
    "df_sales = spark.read.csv(path + \"OnlineRetail_Processed.csv\",\n",
    "                          header=True, inferSchema=True, sep=\",\")\n",
    "df_sales.show(5)"
   ]
  },
  {
   "cell_type": "markdown",
   "metadata": {
    "id": "wOoRtGrYPHdY"
   },
   "source": [
    "#### Prepare our data for modeling purpose and split it into training and testing sets"
   ]
  },
  {
   "cell_type": "code",
   "execution_count": 36,
   "metadata": {
    "executionInfo": {
     "elapsed": 431,
     "status": "ok",
     "timestamp": 1733233705059,
     "user": {
      "displayName": "ran",
      "userId": "03764979633057464777"
     },
     "user_tz": -60
    },
    "id": "_fZ5ARSS-4mD"
   },
   "outputs": [],
   "source": [
    "# Aggregate data\n",
    "df_group_sales = \\\n",
    "df_sales.groupBy('Country', 'StockCode', 'InvoiceDate',\\\n",
    "                  'Year', 'Month', 'Day', 'Week', 'DayOfWeek', 'UnitPrice')\\\n",
    "                  .agg(sf.sum('Quantity').alias('Quantity'))"
   ]
  },
  {
   "cell_type": "markdown",
   "metadata": {
    "id": "7ST2AX7GSt7n"
   },
   "source": [
    "Assemble the features to one vector"
   ]
  },
  {
   "cell_type": "code",
   "execution_count": 40,
   "metadata": {
    "executionInfo": {
     "elapsed": 8500,
     "status": "ok",
     "timestamp": 1733233789623,
     "user": {
      "displayName": "ran",
      "userId": "03764979633057464777"
     },
     "user_tz": -60
    },
    "id": "3StSFXbYN14R"
   },
   "outputs": [],
   "source": [
    "country_indexer = StringIndexer(inputCol=\"Country\", outputCol=\"Country_indexed\", handleInvalid='skip')\n",
    "stockCode_indexer = StringIndexer(inputCol=\"StockCode\", outputCol=\"StockCode_indexed\", handleInvalid='skip')\n",
    "assembler = VectorAssembler(inputCols=[country_indexer.getOutputCol(),\\\n",
    "                                       stockCode_indexer.getOutputCol(),\\\n",
    "                                       'Year', 'Month', 'Day', 'Week', 'DayOfWeek', 'UnitPrice'],\\\n",
    "                             outputCol='Features', handleInvalid='skip')\n",
    "pl = Pipeline(stages=[country_indexer, stockCode_indexer, assembler])\n",
    "df_group_sales = pl.fit(df_group_sales).transform(df_group_sales)"
   ]
  },
  {
   "cell_type": "markdown",
   "metadata": {
    "id": "TDOx9jN1GPA5"
   },
   "source": [
    "Splitting data into training and testing sets\n"
   ]
  },
  {
   "cell_type": "code",
   "execution_count": 41,
   "metadata": {
    "executionInfo": {
     "elapsed": 419,
     "status": "ok",
     "timestamp": 1733233795674,
     "user": {
      "displayName": "ran",
      "userId": "03764979633057464777"
     },
     "user_tz": -60
    },
    "id": "Y-KFgZF31gmZ"
   },
   "outputs": [],
   "source": [
    "training_data = df_group_sales.filter(df_group_sales.InvoiceDate <= \"2011-10-01\")\n",
    "testing_data = df_group_sales.filter(df_group_sales.InvoiceDate > \"2011-10-01\")"
   ]
  },
  {
   "cell_type": "markdown",
   "metadata": {
    "id": "NHwKcCbk6ANz"
   },
   "source": [
    "#### Decision Tree Regression"
   ]
  },
  {
   "cell_type": "code",
   "execution_count": 42,
   "metadata": {
    "executionInfo": {
     "elapsed": 17289,
     "status": "ok",
     "timestamp": 1733233817260,
     "user": {
      "displayName": "ran",
      "userId": "03764979633057464777"
     },
     "user_tz": -60
    },
    "id": "aEoMRrDD6Ikr"
   },
   "outputs": [],
   "source": [
    "dt = DecisionTreeRegressor(featuresCol='Features', labelCol='Quantity',\\\n",
    "                           predictionCol=\"Quantity_predicted\", maxBins=4000,\\\n",
    "                           maxDepth=5)\n",
    "dt_model = dt.fit(training_data)\n",
    "dt_preds = dt_model.transform(testing_data)"
   ]
  },
  {
   "cell_type": "markdown",
   "metadata": {
    "id": "0VwgdB02VjvU"
   },
   "source": [
    "#### Random Forest Regression"
   ]
  },
  {
   "cell_type": "code",
   "execution_count": 43,
   "metadata": {
    "executionInfo": {
     "elapsed": 31531,
     "status": "ok",
     "timestamp": 1733233854249,
     "user": {
      "displayName": "ran",
      "userId": "03764979633057464777"
     },
     "user_tz": -60
    },
    "id": "i5QYUxyaN1-j"
   },
   "outputs": [],
   "source": [
    "rfr = RandomForestRegressor(featuresCol='Features', labelCol='Quantity',\\\n",
    "                      predictionCol=\"Quantity_predicted\", maxBins=4000,\\\n",
    "                            maxDepth=5)\n",
    "rfr_model = rfr.fit(training_data)\n",
    "rfr_preds = rfr_model.transform(testing_data)"
   ]
  },
  {
   "cell_type": "markdown",
   "metadata": {
    "id": "lZaOe07NXR5S"
   },
   "source": [
    "#### Gradient Boosted Trees\n"
   ]
  },
  {
   "cell_type": "code",
   "execution_count": 44,
   "metadata": {
    "executionInfo": {
     "elapsed": 96797,
     "status": "ok",
     "timestamp": 1733233951033,
     "user": {
      "displayName": "ran",
      "userId": "03764979633057464777"
     },
     "user_tz": -60
    },
    "id": "rGJ096IlFJ1Z"
   },
   "outputs": [],
   "source": [
    "gbt = GBTRegressor(featuresCol='Features', labelCol='Quantity',\\\n",
    "                   predictionCol=\"Quantity_predicted\", maxBins=4000,\\\n",
    "                   maxDepth=5, stepSize=0.1, maxIter=20)\n",
    "gbt_model = gbt.fit(training_data)\n",
    "gbt_preds = gbt_model.transform(testing_data)"
   ]
  },
  {
   "cell_type": "markdown",
   "metadata": {
    "id": "G_rlwurtQ6mr"
   },
   "source": [
    "#### Evaluation"
   ]
  },
  {
   "cell_type": "code",
   "execution_count": 45,
   "metadata": {
    "colab": {
     "base_uri": "https://localhost:8080/"
    },
    "executionInfo": {
     "elapsed": 17114,
     "status": "ok",
     "timestamp": 1733233968124,
     "user": {
      "displayName": "ran",
      "userId": "03764979633057464777"
     },
     "user_tz": -60
    },
    "id": "y8Xz8Chzb5pZ",
    "outputId": "5efdff0f-989c-431c-e509-cd498131232b"
   },
   "outputs": [
    {
     "name": "stdout",
     "output_type": "stream",
     "text": [
      "Mean Absolute Error (MAE) on test data\n",
      "+--------------------+----+\n",
      "|               Model| MAE|\n",
      "+--------------------+----+\n",
      "|Decision Tree Reg...| 8.5|\n",
      "|Random Forest Reg...|8.24|\n",
      "|Gradient Boosted ...|9.75|\n",
      "+--------------------+----+\n",
      "\n"
     ]
    }
   ],
   "source": [
    "evaluator_mae = RegressionEvaluator(labelCol='Quantity',\\\n",
    "                                    predictionCol='Quantity_predicted',\\\n",
    "                                    metricName='mae')\n",
    "models = {'Decision Tree Regression': dt_preds,\n",
    "          'Random Forest Regression': rfr_preds,\n",
    "          'Gradient Boosted Trees': gbt_preds}\n",
    "mae = {}\n",
    "print(\"Mean Absolute Error (MAE) on test data\")\n",
    "for model_name, preds in models.items():\n",
    "    mae[model_name] = round(evaluator_mae.evaluate(preds), 2)\n",
    "df_mae= spark.createDataFrame(mae.items(), \"Model: string, MAE: double\")\n",
    "df_mae.show()"
   ]
  },
  {
   "cell_type": "markdown",
   "metadata": {
    "id": "7u1ue3mutIa8"
   },
   "source": [
    "#### Plotting prediction results for comparision"
   ]
  },
  {
   "cell_type": "code",
   "execution_count": 47,
   "metadata": {
    "colab": {
     "base_uri": "https://localhost:8080/",
     "height": 371
    },
    "executionInfo": {
     "elapsed": 21091,
     "status": "ok",
     "timestamp": 1733234082908,
     "user": {
      "displayName": "ran",
      "userId": "03764979633057464777"
     },
     "user_tz": -60
    },
    "id": "AIB-YkDytT_L",
    "outputId": "855953f8-76c9-4e50-8893-34e5bc66f4b0"
   },
   "outputs": [
    {
     "data": {
      "image/png": "[encoded data removed]",
      "text/plain": [
       "<Figure size 1400x500 with 3 Axes>"
      ]
     },
     "metadata": {},
     "output_type": "display_data"
    }
   ],
   "source": [
    "x = dt_preds.select(\"Quantity\").rdd.flatMap(list).collect()\n",
    "y_dt = dt_preds.select(\"Quantity_predicted\").rdd.flatMap(list).collect()\n",
    "y_rf = rfr_preds.select(\"Quantity_predicted\").rdd.flatMap(list).collect()\n",
    "y_gb = gbt_preds.select(\"Quantity_predicted\").rdd.flatMap(list).collect()\n",
    "\n",
    "plt.figure(figsize=(14, 5))\n",
    "\n",
    "# Decision Tree Regressor\n",
    "ax1 = plt.subplot(131)\n",
    "plt.scatter(x, y_dt, color='red', label='LR')\n",
    "plt.plot([min(x), max(x)], [min(x), max(x)], '--k', lw=2)\n",
    "plt.xlabel('Actual Quantity')\n",
    "plt.ylabel('Predicted Quantity')\n",
    "plt.title('Decision Tree Regressor')\n",
    "plt.ylim(top=max(x))\n",
    "plt.legend()\n",
    "\n",
    "# Random Forest Regressor\n",
    "ax2 = plt.subplot(132, sharey=ax1)\n",
    "plt.scatter(x, y_rf, color='blue', label='RF')\n",
    "plt.plot([min(x), max(x)], [min(x), max(x)], '--k', lw=2)\n",
    "plt.xlabel('Actual Quantity')\n",
    "plt.title('Random Forest Regressor')\n",
    "plt.legend()\n",
    "\n",
    "# Gradient Boosted Trees\n",
    "plt.subplot(133, sharey=ax1)\n",
    "plt.scatter(x, y_gb, color='cyan', label='GB')\n",
    "plt.plot([min(x), max(x)], [min(x), max(x)], '--k', lw=2)\n",
    "plt.xlabel('Actual Quantity')\n",
    "plt.title('Gradient Boosted Trees')\n",
    "plt.legend()\n",
    "plt.show()"
   ]
  },
  {
   "cell_type": "markdown",
   "metadata": {
    "id": "DNl42aPlzPyU"
   },
   "source": [
    "You may want to tune the hyperparameters of these models to improve their performance. You may also want to explore further preprocessing and feature engineering and pay attention to factors that may affect demands such as seasnoality, etc."
   ]
  },
  {
   "cell_type": "markdown",
   "metadata": {
    "id": "WPiyzrJZuEJM"
   },
   "source": [
    "Save the models"
   ]
  },
  {
   "cell_type": "code",
   "execution_count": 48,
   "metadata": {
    "executionInfo": {
     "elapsed": 4719,
     "status": "ok",
     "timestamp": 1733234134930,
     "user": {
      "displayName": "ran",
      "userId": "03764979633057464777"
     },
     "user_tz": -60
    },
    "id": "kalqhCyHuNId"
   },
   "outputs": [],
   "source": [
    "dt_model.save(\"DT_model\")\n",
    "rfr_model.save(\"RFR_model\")\n",
    "gbt_model.save(\"GBT_model\")"
   ]
  },
  {
   "cell_type": "code",
   "execution_count": 14,
   "metadata": {
    "executionInfo": {
     "elapsed": 788,
     "status": "ok",
     "timestamp": 1733235584911,
     "user": {
      "displayName": "ran",
      "userId": "03764979633057464777"
     },
     "user_tz": -60
    },
    "id": "Zucl3FTrSXkI"
   },
   "outputs": [],
   "source": [
    "# Stop Spark session\n",
    "spark.stop()"
   ]
  }
 ],
 "metadata": {
  "colab": {
   "authorship_tag": "ABX9TyMNwP0UEjAfBmV+52BHTwHW",
   "mount_file_id": "1FdCletL1lfdMHEG32Uf1O6Ynxczs5Xu2",
   "provenance": [
    {
     "file_id": "1FdCletL1lfdMHEG32Uf1O6Ynxczs5Xu2",
     "timestamp": 1733226319860
    }
   ]
  },
  "kernelspec": {
   "display_name": "Python 3 (ipykernel)",
   "language": "python",
   "name": "python3"
  },
  "language_info": {
   "codemirror_mode": {
    "name": "ipython",
    "version": 3
   },
   "file_extension": ".py",
   "mimetype": "text/x-python",
   "name": "python",
   "nbconvert_exporter": "python",
   "pygments_lexer": "ipython3",
   "version": "3.8.10"
  }
 },
 "nbformat": 4,
 "nbformat_minor": 1
}
